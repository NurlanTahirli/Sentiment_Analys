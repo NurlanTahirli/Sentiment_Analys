{
 "cells": [
  {
   "cell_type": "code",
   "execution_count": null,
   "metadata": {},
   "outputs": [],
   "source": [
    "! pip install textblob\n",
    "! pip install nltk\n",
    "! pip install \n",
    "! pip install torch\n",
    "! pip install simpletransformers \"transformers==4.30.2\"\n",
    "! pip install emoji"
   ]
  },
  {
   "cell_type": "code",
   "execution_count": null,
   "metadata": {},
   "outputs": [],
   "source": [
    "import numpy as np\n",
    "import pandas as pd\n",
    "from nltk.corpus import stopwords\n",
    "import re\n",
    "import nltk\n",
    "from nltk.stem import WordNetLemmatizer\n",
    "import torch\n",
    "from transformers import AutoTokenizer, AutoModelForSequenceClassification\n",
    "from sklearn.model_selection import train_test_split\n",
    "from sklearn.metrics import accuracy_score\n",
    "nltk.download('stopwords')\n",
    "nltk.download('wordnet')\n",
    "nltk.download('punkt')\n",
    "import warnings\n",
    "warnings.filterwarnings('ignore')"
   ]
  },
  {
   "cell_type": "code",
   "execution_count": 38,
   "metadata": {},
   "outputs": [
    {
     "data": {
      "text/html": [
       "<div>\n",
       "<style scoped>\n",
       "    .dataframe tbody tr th:only-of-type {\n",
       "        vertical-align: middle;\n",
       "    }\n",
       "\n",
       "    .dataframe tbody tr th {\n",
       "        vertical-align: top;\n",
       "    }\n",
       "\n",
       "    .dataframe thead th {\n",
       "        text-align: right;\n",
       "    }\n",
       "</style>\n",
       "<table border=\"1\" class=\"dataframe\">\n",
       "  <thead>\n",
       "    <tr style=\"text-align: right;\">\n",
       "      <th></th>\n",
       "      <th>statement</th>\n",
       "      <th>status</th>\n",
       "    </tr>\n",
       "  </thead>\n",
       "  <tbody>\n",
       "    <tr>\n",
       "      <th>0</th>\n",
       "      <td>oh my gosh</td>\n",
       "      <td>Anxiety</td>\n",
       "    </tr>\n",
       "    <tr>\n",
       "      <th>1</th>\n",
       "      <td>trouble sleeping, confused mind, restless hear...</td>\n",
       "      <td>Anxiety</td>\n",
       "    </tr>\n",
       "    <tr>\n",
       "      <th>2</th>\n",
       "      <td>All wrong, back off dear, forward doubt. Stay ...</td>\n",
       "      <td>Anxiety</td>\n",
       "    </tr>\n",
       "    <tr>\n",
       "      <th>3</th>\n",
       "      <td>I've shifted my focus to something else but I'...</td>\n",
       "      <td>Anxiety</td>\n",
       "    </tr>\n",
       "    <tr>\n",
       "      <th>4</th>\n",
       "      <td>I'm restless and restless, it's been a month n...</td>\n",
       "      <td>Anxiety</td>\n",
       "    </tr>\n",
       "    <tr>\n",
       "      <th>...</th>\n",
       "      <td>...</td>\n",
       "      <td>...</td>\n",
       "    </tr>\n",
       "    <tr>\n",
       "      <th>53038</th>\n",
       "      <td>Nobody takes me seriously I’ve (24M) dealt wit...</td>\n",
       "      <td>Anxiety</td>\n",
       "    </tr>\n",
       "    <tr>\n",
       "      <th>53039</th>\n",
       "      <td>selfishness  \"I don't feel very good, it's lik...</td>\n",
       "      <td>Anxiety</td>\n",
       "    </tr>\n",
       "    <tr>\n",
       "      <th>53040</th>\n",
       "      <td>Is there any way to sleep better? I can't slee...</td>\n",
       "      <td>Anxiety</td>\n",
       "    </tr>\n",
       "    <tr>\n",
       "      <th>53041</th>\n",
       "      <td>Public speaking tips? Hi, all. I have to give ...</td>\n",
       "      <td>Anxiety</td>\n",
       "    </tr>\n",
       "    <tr>\n",
       "      <th>53042</th>\n",
       "      <td>I have really bad door anxiety! It's not about...</td>\n",
       "      <td>Anxiety</td>\n",
       "    </tr>\n",
       "  </tbody>\n",
       "</table>\n",
       "<p>53043 rows × 2 columns</p>\n",
       "</div>"
      ],
      "text/plain": [
       "                                               statement   status\n",
       "0                                             oh my gosh  Anxiety\n",
       "1      trouble sleeping, confused mind, restless hear...  Anxiety\n",
       "2      All wrong, back off dear, forward doubt. Stay ...  Anxiety\n",
       "3      I've shifted my focus to something else but I'...  Anxiety\n",
       "4      I'm restless and restless, it's been a month n...  Anxiety\n",
       "...                                                  ...      ...\n",
       "53038  Nobody takes me seriously I’ve (24M) dealt wit...  Anxiety\n",
       "53039  selfishness  \"I don't feel very good, it's lik...  Anxiety\n",
       "53040  Is there any way to sleep better? I can't slee...  Anxiety\n",
       "53041  Public speaking tips? Hi, all. I have to give ...  Anxiety\n",
       "53042  I have really bad door anxiety! It's not about...  Anxiety\n",
       "\n",
       "[53043 rows x 2 columns]"
      ]
     },
     "execution_count": 38,
     "metadata": {},
     "output_type": "execute_result"
    }
   ],
   "source": [
    "data=pd.read_csv(r'C:\\Users\\Nurlan\\Desktop\\sentiment analiz\\Combined Data.csv\\Combined Data.csv',index_col=0)\n",
    "data"
   ]
  },
  {
   "cell_type": "code",
   "execution_count": 39,
   "metadata": {},
   "outputs": [
    {
     "data": {
      "text/plain": [
       "statement    362\n",
       "status         0\n",
       "dtype: int64"
      ]
     },
     "execution_count": 39,
     "metadata": {},
     "output_type": "execute_result"
    }
   ],
   "source": [
    "data.isnull().sum()"
   ]
  },
  {
   "cell_type": "code",
   "execution_count": 40,
   "metadata": {},
   "outputs": [],
   "source": [
    "data.dropna(inplace=bool(1))"
   ]
  },
  {
   "cell_type": "code",
   "execution_count": 41,
   "metadata": {},
   "outputs": [
    {
     "data": {
      "text/plain": [
       "Normal                  16343\n",
       "Depression              15404\n",
       "Suicidal                10652\n",
       "Anxiety                  3841\n",
       "Bipolar                  2777\n",
       "Stress                   2587\n",
       "Personality disorder     1077\n",
       "Name: status, dtype: int64"
      ]
     },
     "execution_count": 41,
     "metadata": {},
     "output_type": "execute_result"
    }
   ],
   "source": [
    "data['status'].value_counts()"
   ]
  },
  {
   "cell_type": "code",
   "execution_count": 42,
   "metadata": {},
   "outputs": [],
   "source": [
    "# lower all words\n",
    "data['statement']=data['statement'].str.lower()"
   ]
  },
  {
   "cell_type": "code",
   "execution_count": 43,
   "metadata": {},
   "outputs": [],
   "source": [
    "# clear statements\n",
    "data['statement']=data['statement'].str.replace('[^\\w\\s]','',regex=True)"
   ]
  },
  {
   "cell_type": "code",
   "execution_count": 44,
   "metadata": {},
   "outputs": [],
   "source": [
    "# clear numbers\n",
    "data['statement']=data['statement'].str.replace('\\d+','',regex=True)"
   ]
  },
  {
   "cell_type": "code",
   "execution_count": 45,
   "metadata": {},
   "outputs": [],
   "source": [
    "# clear links\n",
    "data['statement']=data['statement'].str.replace('http\\S+|www\\S+|https\\S+', '', flags=re.MULTILINE)"
   ]
  },
  {
   "cell_type": "code",
   "execution_count": 46,
   "metadata": {},
   "outputs": [],
   "source": [
    "# stopwords\n",
    "stop_words=set(stopwords.words('english'))\n",
    "data['statement']=data['statement'].apply(lambda x:' '.join(word for word in x.split() if word not in stop_words))"
   ]
  },
  {
   "cell_type": "code",
   "execution_count": 47,
   "metadata": {},
   "outputs": [],
   "source": [
    "from nltk.stem import WordNetLemmatizer\n",
    "\n",
    "lemmatizer = WordNetLemmatizer()\n",
    "data['statement']=data['statement'].apply(lambda x: ''.join(lemmatizer.lemmatize(word,pos='v') for word in x))"
   ]
  },
  {
   "cell_type": "code",
   "execution_count": 48,
   "metadata": {},
   "outputs": [],
   "source": [
    "num_words = pd.Series(' '.join(data['statement']).split()).value_counts()\n",
    "mini_num=num_words[num_words<2]\n",
    "data['statement']=data['statement'].apply(lambda x:' '.join(i for i in x.split() if i not in mini_num))\n"
   ]
  },
  {
   "cell_type": "code",
   "execution_count": 49,
   "metadata": {},
   "outputs": [
    {
     "data": {
      "text/plain": [
       "array(['Anxiety', 'Normal', 'Depression', 'Suicidal', 'Stress', 'Bipolar',\n",
       "       'Personality disorder'], dtype=object)"
      ]
     },
     "execution_count": 49,
     "metadata": {},
     "output_type": "execute_result"
    }
   ],
   "source": [
    "data['status'].unique()"
   ]
  },
  {
   "cell_type": "code",
   "execution_count": 50,
   "metadata": {},
   "outputs": [],
   "source": [
    "emotions={\"Suicidal\":0,\"Depression\":1,\"Stress\":2,\"Normal\":3,\"Anxiety\":4,\"Bipolar\":5,\"Personality disorder\":6}"
   ]
  },
  {
   "cell_type": "code",
   "execution_count": 51,
   "metadata": {},
   "outputs": [],
   "source": [
    "data['status']=data['status'].map(emotions)"
   ]
  },
  {
   "cell_type": "markdown",
   "metadata": {},
   "source": [
    "Tokenizer"
   ]
  },
  {
   "cell_type": "code",
   "execution_count": null,
   "metadata": {},
   "outputs": [],
   "source": [
    "from transformers import DistilBertTokenizer\n",
    "\n",
    "tokenizer = DistilBertTokenizer.from_pretrained(\"distilbert-base-uncased\")\n",
    "\n",
    "def encode_data(data, tokenizer, max_length=128):\n",
    "    return tokenizer(\n",
    "        data['statement'].tolist(),\n",
    "        padding='max_length',\n",
    "        truncation=True,\n",
    "        max_length=max_length,\n",
    "        return_tensors=\"pt\"\n",
    "    )\n",
    "\n",
    "encoded_data = encode_data(data, tokenizer)\n"
   ]
  },
  {
   "cell_type": "markdown",
   "metadata": {},
   "source": [
    "Train-Test datasetin hazırlanması"
   ]
  },
  {
   "cell_type": "code",
   "execution_count": 73,
   "metadata": {},
   "outputs": [],
   "source": [
    "import torch\n",
    "from sklearn.model_selection import train_test_split\n",
    "\n",
    "\n",
    "labels = torch.tensor(data['status'].tolist())\n",
    "\n",
    "train_texts, val_texts, train_labels, val_labels = train_test_split(\n",
    "    encoded_data['input_ids'], labels, test_size=0.2, random_state=42\n",
    ")\n",
    "\n",
    "train_dataset = torch.utils.data.TensorDataset(train_texts, train_labels)\n",
    "val_dataset = torch.utils.data.TensorDataset(val_texts, val_labels)\n"
   ]
  },
  {
   "cell_type": "markdown",
   "metadata": {},
   "source": [
    "Modelin Qurulması"
   ]
  },
  {
   "cell_type": "code",
   "execution_count": null,
   "metadata": {},
   "outputs": [],
   "source": [
    "from transformers import DistilBertForSequenceClassification\n",
    "\n",
    "model =DistilBertForSequenceClassification.from_pretrained(\n",
    "    \"distilbert-base-uncased\",\n",
    "    num_labels=7  \n",
    ")\n"
   ]
  },
  {
   "cell_type": "markdown",
   "metadata": {},
   "source": [
    "Model Training"
   ]
  },
  {
   "cell_type": "code",
   "execution_count": 75,
   "metadata": {},
   "outputs": [
    {
     "name": "stdout",
     "output_type": "stream",
     "text": [
      "Epoch 1 tamamlandı. Loss: 0.5481103658676147\n",
      "Epoch 2 tamamlandı. Loss: 0.6623845100402832\n",
      "Epoch 3 tamamlandı. Loss: 0.08853846788406372\n",
      "Epoch 4 tamamlandı. Loss: 0.026663903146982193\n",
      "Epoch 5 tamamlandı. Loss: 0.04325753450393677\n",
      "Epoch 6 tamamlandı. Loss: 0.07868964970111847\n",
      "Epoch 7 tamamlandı. Loss: 0.018099820241332054\n",
      "Epoch 8 tamamlandı. Loss: 0.07686415314674377\n",
      "Epoch 9 tamamlandı. Loss: 0.04810839891433716\n",
      "Epoch 10 tamamlandı. Loss: 0.002896461170166731\n"
     ]
    }
   ],
   "source": [
    "from transformers import AdamW\n",
    "from torch.utils.data import DataLoader\n",
    "\n",
    "train_loader = DataLoader(train_dataset, batch_size=8, shuffle=True)\n",
    "val_loader = DataLoader(val_dataset, batch_size=8)\n",
    "\n",
    "optimizer = AdamW(model.parameters(), lr=5e-5)\n",
    "\n",
    "\n",
    "device = torch.device(\"cuda\" if torch.cuda.is_available() else \"cpu\")\n",
    "model.to(device)\n",
    "\n",
    "for epoch in range(10):  \n",
    "    model.train()\n",
    "    for batch in train_loader:\n",
    "        inputs, labels = batch\n",
    "        inputs, labels = inputs.to(device), labels.to(device)\n",
    "        optimizer.zero_grad()\n",
    "        outputs = model(inputs, labels=labels)\n",
    "        loss = outputs.loss\n",
    "        loss.backward()\n",
    "        optimizer.step()\n",
    "\n",
    "    print(f\"Epoch {epoch + 1} tamamlandı. Loss: {loss.item()}\")\n"
   ]
  },
  {
   "cell_type": "markdown",
   "metadata": {},
   "source": [
    "Modelin qiymətləndirilməsi"
   ]
  },
  {
   "cell_type": "code",
   "execution_count": 76,
   "metadata": {},
   "outputs": [
    {
     "name": "stdout",
     "output_type": "stream",
     "text": [
      "              precision    recall  f1-score   support\n",
      "\n",
      "           0       0.65      0.62      0.64      2158\n",
      "           1       0.71      0.71      0.71      3016\n",
      "           2       0.62      0.66      0.64       536\n",
      "           3       0.93      0.91      0.92      3308\n",
      "           4       0.83      0.80      0.82       755\n",
      "           5       0.74      0.88      0.80       527\n",
      "           6       0.71      0.76      0.74       237\n",
      "\n",
      "    accuracy                           0.77     10537\n",
      "   macro avg       0.74      0.76      0.75     10537\n",
      "weighted avg       0.77      0.77      0.77     10537\n",
      "\n"
     ]
    }
   ],
   "source": [
    "from sklearn.metrics import classification_report\n",
    "\n",
    "model.eval()\n",
    "predictions, true_labels = [], []\n",
    "\n",
    "with torch.no_grad():\n",
    "    for batch in val_loader:\n",
    "        inputs, labels = batch\n",
    "        inputs = inputs.to(device)\n",
    "        outputs = model(inputs)\n",
    "        logits = outputs.logits\n",
    "        predictions.extend(torch.argmax(logits, dim=1).cpu().numpy())\n",
    "        true_labels.extend(labels.cpu().numpy())\n",
    "\n",
    "print(classification_report(true_labels, predictions))\n"
   ]
  },
  {
   "cell_type": "markdown",
   "metadata": {},
   "source": [
    "Modelin Yoxlanması (Prediction)"
   ]
  },
  {
   "cell_type": "code",
   "execution_count": 81,
   "metadata": {},
   "outputs": [
    {
     "name": "stdout",
     "output_type": "stream",
     "text": [
      "Mətn: Living with bipolar disorder means navigating extreme emotional highs and lows. | Proqnoz: 5\n"
     ]
    }
   ],
   "source": [
    "\n",
    "\n",
    "tokenizer = DistilBertTokenizer.from_pretrained(\"distilbert-base-uncased\")\n",
    "\n",
    "new_texts = ['Living with bipolar disorder means navigating extreme emotional highs and lows.']\n",
    "\n",
    "encoded_new_texts = tokenizer(\n",
    "    new_texts,\n",
    "    padding=\"max_length\",  \n",
    "    truncation=True,       \n",
    "    max_length=128,        \n",
    "    return_tensors=\"pt\"   \n",
    ")\n",
    "\n",
    "input_ids = encoded_new_texts[\"input_ids\"]\n",
    "attention_mask = encoded_new_texts[\"attention_mask\"]\n",
    "\n",
    "\n",
    "model.eval()\n",
    "device = torch.device(\"cuda\" if torch.cuda.is_available() else \"cpu\")\n",
    "model.to(device)\n",
    "\n",
    "\n",
    "with torch.no_grad():\n",
    "    inputs = input_ids.to(device)\n",
    "    masks = attention_mask.to(device)\n",
    "    \n",
    "    outputs = model(input_ids=inputs, attention_mask=masks)\n",
    "    logits = outputs.logits  \n",
    "    predictions = torch.argmax(logits, dim=1)  \n",
    "\n",
    "\n",
    "labels = [\"0\", \"1\", \"2\", \"3\", \"4\", \"5\", \"6\"]\n",
    "\n",
    "for text, pred in zip(new_texts, predictions.cpu().numpy()):\n",
    "    print(f\"Mətn: {text} | Proqnoz: {labels[pred]}\")\n"
   ]
  },
  {
   "cell_type": "code",
   "execution_count": 61,
   "metadata": {},
   "outputs": [
    {
     "data": {
      "text/plain": [
       "{'Suicidal': 0,\n",
       " 'Depression': 1,\n",
       " 'Stress': 2,\n",
       " 'Normal': 3,\n",
       " 'Anxiety': 4,\n",
       " 'Bipolar': 5,\n",
       " 'Personality disorder': 6}"
      ]
     },
     "execution_count": 61,
     "metadata": {},
     "output_type": "execute_result"
    }
   ],
   "source": [
    "emotions"
   ]
  }
 ],
 "metadata": {
  "kernelspec": {
   "display_name": "Python 3",
   "language": "python",
   "name": "python3"
  },
  "language_info": {
   "codemirror_mode": {
    "name": "ipython",
    "version": 3
   },
   "file_extension": ".py",
   "mimetype": "text/x-python",
   "name": "python",
   "nbconvert_exporter": "python",
   "pygments_lexer": "ipython3",
   "version": "3.11.2"
  }
 },
 "nbformat": 4,
 "nbformat_minor": 2
}
